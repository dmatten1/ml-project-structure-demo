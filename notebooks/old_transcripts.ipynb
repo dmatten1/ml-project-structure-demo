{
 "cells": [
  {
   "cell_type": "code",
   "execution_count": 3,
   "metadata": {},
   "outputs": [],
   "source": [
    "import pandas as pd\n",
    "from glob import glob\n",
    "import os\n",
    "import numpy as np\n",
    "def clean_b_string(x):\n",
    "    if isinstance(x, bytes):\n",
    "        return x.decode(\"utf-8\")\n",
    "    elif isinstance(x, str) and x.startswith(\"b'\") and x.endswith(\"'\"):\n",
    "        return x[2:-1]\n",
    "    return x\n"
   ]
  },
  {
   "cell_type": "code",
   "execution_count": 20,
   "metadata": {},
   "outputs": [],
   "source": [
    "transcripts10 = pd.read_sas(\"/users/danielmatten/Desktop/m/transcripts2010.sas7bdat\")\n",
    "transcripts10.columns = transcripts10.columns.str.lower()\n",
    "columns_to_keep = ['lea','schlcode','grade','final_mark','academic_level_code','mastid']\n",
    "\n",
    "transcripts10 = transcripts10[columns_to_keep]\n",
    "for col in transcripts10.select_dtypes(include='object').columns:\n",
    "    transcripts10[col] = transcripts10[col].map(clean_b_string)\n",
    "    \n",
    "# Convert non-numeric values in final_mark to NaN\n",
    "transcripts10['final_mark'] = pd.to_numeric(transcripts10['final_mark'], errors='coerce')\n",
    "\n",
    "\n",
    "#transcripts10[\"academic_level_desc\"] = transcripts10[\"academic_level_desc\"].apply(lambda x: x[4:])\n",
    "\n",
    "# Define the mapping\n",
    "academic_level_map = {\n",
    "    0: \"Modified Curriculum\",\n",
    "    1: \"Abridged/Adapted (Remedial)\",\n",
    "    2: \"Standard Version\",\n",
    "    5: \"Honors/Advanced/Academically Gifted\",\n",
    "    6: \"Co-op Education\",\n",
    "    7: \"Advanced Placement\",\n",
    "    8: \"International Baccalaureate\",\n",
    "    9: \"Non-Classroom Activity\",\n",
    "}\n",
    "# Convert to numeric, if not already (defensive coding)\n",
    "transcripts10['academic_level_code'] = pd.to_numeric(transcripts10['academic_level_code'], errors='coerce')\n",
    "\n",
    "# Keep only rows with values that exist in the map\n",
    "transcripts10 = transcripts10[transcripts10['academic_level_code'].isin(academic_level_map.keys())]\n",
    "\n",
    "# Map the values to their descriptions\n",
    "transcripts10['academic_level_code'] = transcripts10['academic_level_code'].map(academic_level_map)\n",
    "\n",
    "transcripts10['academic_level_desc'] = transcripts10['academic_level_code']\n",
    "transcripts10.drop(columns=['academic_level_code'],inplace=True)\n",
    "\n",
    "transcripts10.dropna(inplace=True)\n",
    "transcripts10.to_csv(\"../data/raw/transcripts10.csv\", index=False)\n"
   ]
  },
  {
   "cell_type": "code",
   "execution_count": 22,
   "metadata": {},
   "outputs": [
    {
     "name": "stderr",
     "output_type": "stream",
     "text": [
      "/var/folders/dk/2mw0y5w91dggrsnrpxb04jv80000gn/T/ipykernel_78362/3608395138.py:6: DtypeWarning: Columns (2) have mixed types. Specify dtype option on import or set low_memory=False.\n",
      "  transcripts_dfs = [pd.read_csv(f) for f in transcripts_files]\n",
      "/var/folders/dk/2mw0y5w91dggrsnrpxb04jv80000gn/T/ipykernel_78362/3608395138.py:6: DtypeWarning: Columns (2) have mixed types. Specify dtype option on import or set low_memory=False.\n",
      "  transcripts_dfs = [pd.read_csv(f) for f in transcripts_files]\n",
      "/var/folders/dk/2mw0y5w91dggrsnrpxb04jv80000gn/T/ipykernel_78362/3608395138.py:6: DtypeWarning: Columns (2) have mixed types. Specify dtype option on import or set low_memory=False.\n",
      "  transcripts_dfs = [pd.read_csv(f) for f in transcripts_files]\n",
      "/var/folders/dk/2mw0y5w91dggrsnrpxb04jv80000gn/T/ipykernel_78362/3608395138.py:6: DtypeWarning: Columns (2) have mixed types. Specify dtype option on import or set low_memory=False.\n",
      "  transcripts_dfs = [pd.read_csv(f) for f in transcripts_files]\n"
     ]
    }
   ],
   "source": [
    "raw_data_path = \"../data/raw\"\n",
    "csv = [\n",
    "    f for f in glob(os.path.join(raw_data_path, \"*.csv\"))\n",
    "]\n",
    "transcripts_files = [f for f in csv if os.path.basename(f).startswith(\"transcripts\")]\n",
    "transcripts_dfs = [pd.read_csv(f) for f in transcripts_files]\n",
    "transcripts_master = pd.concat(transcripts_dfs, ignore_index=True)\n",
    "transcripts_master.dropna(inplace=True)\n",
    "transcripts_master.to_csv(\"../data/processed/transcripts_master.csv\", index=False)\n"
   ]
  },
  {
   "cell_type": "code",
   "execution_count": 4,
   "metadata": {},
   "outputs": [
    {
     "name": "stderr",
     "output_type": "stream",
     "text": [
      "/var/folders/dk/2mw0y5w91dggrsnrpxb04jv80000gn/T/ipykernel_88883/1263804936.py:1: DtypeWarning: Columns (2) have mixed types. Specify dtype option on import or set low_memory=False.\n",
      "  transcripts_master = pd.read_csv(\"../data/processed/transcripts_master.csv\")\n"
     ]
    }
   ],
   "source": [
    "transcripts_master = pd.read_csv(\"../data/processed/transcripts_master.csv\")"
   ]
  }
 ],
 "metadata": {
  "kernelspec": {
   "display_name": "Python 3",
   "language": "python",
   "name": "python3"
  },
  "language_info": {
   "codemirror_mode": {
    "name": "ipython",
    "version": 3
   },
   "file_extension": ".py",
   "mimetype": "text/x-python",
   "name": "python",
   "nbconvert_exporter": "python",
   "pygments_lexer": "ipython3",
   "version": "3.13.3"
  }
 },
 "nbformat": 4,
 "nbformat_minor": 2
}
