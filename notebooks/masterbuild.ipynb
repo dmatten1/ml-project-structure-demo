{
 "cells": [
  {
   "cell_type": "code",
   "execution_count": 1,
   "metadata": {},
   "outputs": [],
   "source": [
    "import pyreadstat as stat\n",
    "import pandas as pd\n",
    "import numpy as np"
   ]
  },
  {
   "cell_type": "code",
   "execution_count": 11,
   "metadata": {},
   "outputs": [],
   "source": [
    "df, meta = stat.read_sas7bdat(\"/Users/danielmatten/Desktop/m/pcaudit_pub2022.sas7bdat\")"
   ]
  },
  {
   "cell_type": "code",
   "execution_count": 12,
   "metadata": {},
   "outputs": [],
   "source": [
    "df = df[df['aig'] != 'N']\n",
    "df = df[[\"mastid\", \"lea\", \"schlcode\", \"reporting_year\", \"grade\",\n",
    "         \"ethnic\", \"sex\", \"aig\", \"aig_code\", \"mpw\",\"eds\"]]\n"
   ]
  },
  {
   "cell_type": "code",
   "execution_count": 6,
   "metadata": {},
   "outputs": [],
   "source": [
    "df = df[df['aig'] != 'N']\n",
    "df = df[[\"mastid\", \"lea\", \"schlcode\", \"grade\",\n",
    "         \"ethnic\", \"sex\", \"aig\", \"aig_code\", \"mpw\",\"eds\"]]\n",
    "df['reporting_year'] = 2019 #for 219\n"
   ]
  },
  {
   "cell_type": "code",
   "execution_count": 3,
   "metadata": {},
   "outputs": [],
   "source": [
    "df = df[df['aig'] != 'N']\n",
    "df = df[[\"mastid\", \"lea\", \"schlcode\", \"grade\",\n",
    "         \"ethnic\", \"sex\", \"aig\", \"aig_code\",\"eds\"]]\n",
    "df['reporting_year'] = 2018 #for 2018\n",
    "df['mpw'] = np.nan"
   ]
  },
  {
   "cell_type": "code",
   "execution_count": 13,
   "metadata": {},
   "outputs": [],
   "source": [
    "df.drop_duplicates()\n",
    "df.to_csv(\"../data/raw/masterbuild2022.csv\", index=False)\n"
   ]
  },
  {
   "cell_type": "code",
   "execution_count": 20,
   "metadata": {},
   "outputs": [],
   "source": [
    "duplicates = df[df.duplicated(subset='mastid', keep=False)]\n",
    "\n"
   ]
  }
 ],
 "metadata": {
  "kernelspec": {
   "display_name": "Python 3",
   "language": "python",
   "name": "python3"
  },
  "language_info": {
   "codemirror_mode": {
    "name": "ipython",
    "version": 3
   },
   "file_extension": ".py",
   "mimetype": "text/x-python",
   "name": "python",
   "nbconvert_exporter": "python",
   "pygments_lexer": "ipython3",
   "version": "3.12.7"
  }
 },
 "nbformat": 4,
 "nbformat_minor": 2
}
