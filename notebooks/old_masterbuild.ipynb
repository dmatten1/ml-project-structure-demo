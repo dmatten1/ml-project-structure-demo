{
 "cells": [
  {
   "cell_type": "code",
   "execution_count": 5,
   "metadata": {},
   "outputs": [],
   "source": [
    "import pandas as pd\n",
    "from glob import glob\n",
    "import os\n",
    "import numpy as np\n",
    "def clean_b_string(x):\n",
    "    if isinstance(x, bytes):\n",
    "        return x.decode(\"utf-8\")\n",
    "    elif isinstance(x, str) and x.startswith(\"b'\") and x.endswith(\"'\"):\n",
    "        return x[2:-1]\n",
    "    return x\n",
    "def combine_aig(row):\n",
    "    m, r = row['aig_m'], row['aig_r']\n",
    "    if pd.isna(m) or pd.isna(r): return np.nan\n",
    "    if m == \"Y\" and r == \"Y\":\n",
    "        return 'B'\n",
    "    elif m == \"Y\" and r == \"N\":\n",
    "        return 'M'\n",
    "    elif m == \"N\" and r == \"Y\":\n",
    "        return 'R'\n",
    "    else:\n",
    "        return 'N'"
   ]
  },
  {
   "cell_type": "code",
   "execution_count": 7,
   "metadata": {},
   "outputs": [],
   "source": [
    "masterbuild10 = pd.read_sas(\"/users/danielmatten/Desktop/m/mb_2010_pub.sas7bdat\")\n",
    "# List of columns to keep\n",
    "masterbuild10.columns = masterbuild10.columns.str.lower()\n",
    "\n",
    "\n",
    "masterbuild10['reporting_year'] = 2010\n",
    "columns_to_keep = ['lea', 'schlcode','grade','ethnicity','sex','aig_m','aig_r','eds','reporting_year','mastid'] #aig_code if needed\n",
    "\n",
    "\n",
    "# Keep only those columns\n",
    "masterbuild10 = masterbuild10[columns_to_keep]\n",
    "for col in masterbuild10.select_dtypes(include='object').columns:\n",
    "    masterbuild10[col] = masterbuild10[col].map(clean_b_string)\n",
    "masterbuild10.replace(\"XG\", np.nan, inplace=True)\n",
    "\n",
    "masterbuild10['aig'] = masterbuild10.apply(combine_aig, axis=1)\n",
    "masterbuild10.drop(columns=['aig_m','aig_r'],inplace=True)\n",
    "masterbuild10['ethnic'] = masterbuild10['ethnicity']\n",
    "masterbuild10.drop(columns=['ethnicity'],inplace=True)\n",
    "# Replace 'Y' in 'aig' with the corresponding value from 'aig_code'\n",
    "#masterbuild10.loc[masterbuild10['aig'] == 'Y', 'aig'] = masterbuild10.loc[masterbuild10['aig'] == 'Y', 'aig_code']\n",
    "\n",
    "#masterbuild10.drop(columns=['aig_code'],inplace=True)\n",
    "masterbuild10.dropna(inplace=True)\n",
    "masterbuild10['ethnic'] = masterbuild10['ethnic'].astype(str).str[0]\n",
    "masterbuild10.to_csv(\"../data/raw/masterbuild10.csv\", index=False)"
   ]
  },
  {
   "cell_type": "code",
   "execution_count": 12,
   "metadata": {},
   "outputs": [
    {
     "name": "stderr",
     "output_type": "stream",
     "text": [
      "/var/folders/dk/2mw0y5w91dggrsnrpxb04jv80000gn/T/ipykernel_75700/209106515.py:6: DtypeWarning: Columns (2) have mixed types. Specify dtype option on import or set low_memory=False.\n",
      "  master_dfs = [pd.read_csv(f) for f in master_files]\n",
      "/var/folders/dk/2mw0y5w91dggrsnrpxb04jv80000gn/T/ipykernel_75700/209106515.py:6: DtypeWarning: Columns (0) have mixed types. Specify dtype option on import or set low_memory=False.\n",
      "  master_dfs = [pd.read_csv(f) for f in master_files]\n",
      "/var/folders/dk/2mw0y5w91dggrsnrpxb04jv80000gn/T/ipykernel_75700/209106515.py:6: DtypeWarning: Columns (2) have mixed types. Specify dtype option on import or set low_memory=False.\n",
      "  master_dfs = [pd.read_csv(f) for f in master_files]\n",
      "/var/folders/dk/2mw0y5w91dggrsnrpxb04jv80000gn/T/ipykernel_75700/209106515.py:6: DtypeWarning: Columns (2) have mixed types. Specify dtype option on import or set low_memory=False.\n",
      "  master_dfs = [pd.read_csv(f) for f in master_files]\n",
      "/var/folders/dk/2mw0y5w91dggrsnrpxb04jv80000gn/T/ipykernel_75700/209106515.py:6: DtypeWarning: Columns (2) have mixed types. Specify dtype option on import or set low_memory=False.\n",
      "  master_dfs = [pd.read_csv(f) for f in master_files]\n",
      "/var/folders/dk/2mw0y5w91dggrsnrpxb04jv80000gn/T/ipykernel_75700/209106515.py:6: DtypeWarning: Columns (2) have mixed types. Specify dtype option on import or set low_memory=False.\n",
      "  master_dfs = [pd.read_csv(f) for f in master_files]\n",
      "/var/folders/dk/2mw0y5w91dggrsnrpxb04jv80000gn/T/ipykernel_75700/209106515.py:6: DtypeWarning: Columns (2) have mixed types. Specify dtype option on import or set low_memory=False.\n",
      "  master_dfs = [pd.read_csv(f) for f in master_files]\n"
     ]
    }
   ],
   "source": [
    "raw_data_path = \"../data/raw\"\n",
    "csv = [\n",
    "    f for f in glob(os.path.join(raw_data_path, \"*.csv\"))\n",
    "]\n",
    "master_files = [f for f in csv if os.path.basename(f).startswith(\"masterbuild\")]\n",
    "master_dfs = [pd.read_csv(f) for f in master_files]\n",
    "masterbuild_master = pd.concat(master_dfs, ignore_index=True)\n",
    "masterbuild_master.drop(columns=['aig_code','mpw'],inplace=True)\n",
    "masterbuild_master.to_csv(\"../data/processed/masterbuild_master.csv\", index=False)\n"
   ]
  }
 ],
 "metadata": {
  "kernelspec": {
   "display_name": "Python 3",
   "language": "python",
   "name": "python3"
  },
  "language_info": {
   "codemirror_mode": {
    "name": "ipython",
    "version": 3
   },
   "file_extension": ".py",
   "mimetype": "text/x-python",
   "name": "python",
   "nbconvert_exporter": "python",
   "pygments_lexer": "ipython3",
   "version": "3.13.3"
  }
 },
 "nbformat": 4,
 "nbformat_minor": 2
}
