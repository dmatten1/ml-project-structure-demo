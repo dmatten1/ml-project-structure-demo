{
 "cells": [
  {
   "cell_type": "code",
   "execution_count": 1,
   "metadata": {},
   "outputs": [],
   "source": [
    "import pandas as pd\n",
    "import numpy as np\n",
    "from glob import glob\n",
    "import os\n",
    "def clean_b_string(x):\n",
    "    if isinstance(x, bytes):\n",
    "        return x.decode(\"utf-8\")\n",
    "    elif isinstance(x, str) and x.startswith(\"b'\") and x.endswith(\"'\"):\n",
    "        return x[2:-1]\n",
    "    return x\n"
   ]
  },
  {
   "cell_type": "code",
   "execution_count": 5,
   "metadata": {},
   "outputs": [],
   "source": [
    "demo23 = pd.read_sas(\"/users/danielmatten/Desktop/m/mergedemo_pub2023.sas7bdat\")\n",
    "demo23.columns = demo23.columns.str.lower()\n"
   ]
  }
 ],
 "metadata": {
  "kernelspec": {
   "display_name": "Python 3",
   "language": "python",
   "name": "python3"
  },
  "language_info": {
   "codemirror_mode": {
    "name": "ipython",
    "version": 3
   },
   "file_extension": ".py",
   "mimetype": "text/x-python",
   "name": "python",
   "nbconvert_exporter": "python",
   "pygments_lexer": "ipython3",
   "version": "3.13.3"
  }
 },
 "nbformat": 4,
 "nbformat_minor": 2
}
