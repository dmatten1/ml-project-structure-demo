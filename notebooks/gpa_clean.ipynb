{
 "cells": [
  {
   "cell_type": "code",
   "execution_count": 7,
   "metadata": {},
   "outputs": [],
   "source": [
    "import os\n",
    "import pandas as pd\n",
    "import re\n",
    "import matplotlib.pyplot as plt\n",
    "\n",
    "# Set the folder path containing the CSV files\n",
    "folder_path = \"../data/raw\"  # Change this if your files are in a different directory\n",
    "\n",
    "\n",
    "# Loop through files in the directory\n",
    "for filename in os.listdir(folder_path):\n",
    "    match = re.match(r\"gpa(\\d{4})\\.csv\", filename)\n",
    "    if match:\n",
    "        year = match.group(1)\n",
    "        var_name = f\"gpa{year}\"\n",
    "        file_path = os.path.join(folder_path, filename)\n",
    "        df = pd.read_csv(file_path)\n",
    "        globals()[var_name] = df\n",
    "        \n",
    "gpa_vars = [var for var in globals() if var.startswith(\"gpa\") and isinstance(globals()[var], pd.DataFrame) and var != \"gpa_master\"]\n",
    "\n"
   ]
  },
  {
   "cell_type": "code",
   "execution_count": 8,
   "metadata": {},
   "outputs": [],
   "source": [
    "gpa_master = pd.concat([globals()[var] for var in gpa_vars], ignore_index=True)\n",
    "gpa_master = gpa_master.map(lambda x: x[2:-1] if isinstance(x, str) and x.startswith('b') else x)"
   ]
  },
  {
   "cell_type": "code",
   "execution_count": 9,
   "metadata": {},
   "outputs": [],
   "source": [
    "\n",
    "\n",
    "# Combine the columns, prioritizing non-null values in 'bound_for'\n",
    "gpa_master['bound_for_combined'] = gpa_master['bound_for'].combine_first(gpa_master['BOUND_FOR'])\n",
    "\n",
    "# Drop the original columns\n",
    "gpa_master.drop(columns=['bound_for', 'BOUND_FOR'], inplace=True)\n",
    "\n",
    "# Rename to a standard name (optional)\n",
    "gpa_master.rename(columns={'bound_for_combined': 'bound_for'}, inplace=True)\n",
    "\n",
    "\n",
    "gpa_master.drop(columns=['DIPLOMA_MET','UNWEIGHTED_RANK_DATE','WEIGHTED_RANK_DATE','diploma_type','DIPLOMA_TYPE'], inplace=True)\n",
    "\n",
    "from dateutil.parser import parse\n",
    "\n",
    "def fast_parse_dates(series):\n",
    "    # Try general parse first (fastest)\n",
    "    parsed = pd.to_datetime(series, errors='coerce')\n",
    "\n",
    "    # Optionally: fallback to common format if still missing\n",
    "    fallback = pd.to_datetime(series, format='%m/%d/%Y', errors='coerce')\n",
    "    parsed = parsed.fillna(fallback)\n",
    "\n",
    "    return parsed.dt.year\n",
    "\n",
    "\n",
    "gpa_master['entry_year'] = fast_parse_dates(gpa_master['NINTHGRADEENTRY'])\n",
    "gpa_master['grad_year'] = fast_parse_dates(gpa_master['DIPLOMA_ISSUED'])\n",
    "\n",
    "\n",
    "gpa_master.drop(columns=['NINTHGRADEENTRY','DIPLOMA_ISSUED'],inplace=True)\n"
   ]
  },
  {
   "cell_type": "code",
   "execution_count": 10,
   "metadata": {},
   "outputs": [],
   "source": [
    "\n",
    "gpa_master.dropna(inplace=True)\n"
   ]
  },
  {
   "cell_type": "code",
   "execution_count": 11,
   "metadata": {},
   "outputs": [],
   "source": [
    "gpa_master = gpa_master[(gpa_master['gpa_unweighted'] <= 4) & (gpa_master['gpa_weighted'] <= 6)]\n",
    "gpa_master = gpa_master[(gpa_master['entry_year'] < 2030)]"
   ]
  },
  {
   "cell_type": "code",
   "execution_count": null,
   "metadata": {},
   "outputs": [],
   "source": []
  }
 ],
 "metadata": {
  "kernelspec": {
   "display_name": "Python 3",
   "language": "python",
   "name": "python3"
  },
  "language_info": {
   "codemirror_mode": {
    "name": "ipython",
    "version": 3
   },
   "file_extension": ".py",
   "mimetype": "text/x-python",
   "name": "python",
   "nbconvert_exporter": "python",
   "pygments_lexer": "ipython3",
   "version": "3.13.3"
  }
 },
 "nbformat": 4,
 "nbformat_minor": 2
}
