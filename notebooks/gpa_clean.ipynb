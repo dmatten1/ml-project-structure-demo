{
 "cells": [
  {
   "cell_type": "code",
   "execution_count": 1,
   "metadata": {},
   "outputs": [],
   "source": [
    "import os\n",
    "import pandas as pd\n",
    "import re\n",
    "import matplotlib.pyplot as plt\n",
    "\n",
    "# Set the folder path containing the CSV files\n",
    "folder_path = \"../data/raw\"  # Change this if your files are in a different directory\n",
    "\n",
    "\n",
    "# Loop through files in the directory\n",
    "for filename in os.listdir(folder_path):\n",
    "    match = re.match(r\"gpa(\\d{4})\\.csv\", filename)\n",
    "    if match:\n",
    "        year = match.group(1)\n",
    "        var_name = f\"gpa{year}\"\n",
    "        file_path = os.path.join(folder_path, filename)\n",
    "        df = pd.read_csv(file_path)\n",
    "        globals()[var_name] = df\n",
    "        \n",
    "gpa_vars = [var for var in globals() if var.startswith(\"gpa\") and isinstance(globals()[var], pd.DataFrame) and var != \"gpa_master\"]\n",
    "\n"
   ]
  },
  {
   "cell_type": "code",
   "execution_count": 3,
   "metadata": {},
   "outputs": [],
   "source": [
    "gpa_master = pd.concat([globals()[var] for var in gpa_vars], ignore_index=True)"
   ]
  },
  {
   "cell_type": "code",
   "execution_count": 5,
   "metadata": {},
   "outputs": [],
   "source": [
    "gpa_master.drop(columns=['DIPLOMA_MET', 'DIPLOMA_TYPE','diploma_type','BOUND_FOR'], inplace=True)\n",
    "gpa_master.dropna(inplace=True)\n"
   ]
  },
  {
   "cell_type": "code",
   "execution_count": 6,
   "metadata": {},
   "outputs": [
    {
     "name": "stderr",
     "output_type": "stream",
     "text": [
      "/var/folders/dk/2mw0y5w91dggrsnrpxb04jv80000gn/T/ipykernel_9285/2651180191.py:1: FutureWarning: DataFrame.applymap has been deprecated. Use DataFrame.map instead.\n",
      "  gpa_master = gpa_master.applymap(lambda x: x[2:-1] if isinstance(x, str) and x.startswith('b') else x)\n"
     ]
    }
   ],
   "source": [
    "gpa_master = gpa_master.applymap(lambda x: x[2:-1] if isinstance(x, str) and x.startswith('b') else x)\n"
   ]
  },
  {
   "cell_type": "code",
   "execution_count": 7,
   "metadata": {},
   "outputs": [],
   "source": [
    "gpa_master = gpa_master[(gpa_master['gpa_unweighted'] <= 4) & (gpa_master['gpa_weighted'] <= 6)]\n"
   ]
  },
  {
   "cell_type": "code",
   "execution_count": null,
   "metadata": {},
   "outputs": [],
   "source": [
    "gpa_master.to_csv(\"data/processed/gpa_master.csv\", index=False)"
   ]
  }
 ],
 "metadata": {
  "kernelspec": {
   "display_name": "Python 3",
   "language": "python",
   "name": "python3"
  },
  "language_info": {
   "codemirror_mode": {
    "name": "ipython",
    "version": 3
   },
   "file_extension": ".py",
   "mimetype": "text/x-python",
   "name": "python",
   "nbconvert_exporter": "python",
   "pygments_lexer": "ipython3",
   "version": "3.13.3"
  }
 },
 "nbformat": 4,
 "nbformat_minor": 2
}
