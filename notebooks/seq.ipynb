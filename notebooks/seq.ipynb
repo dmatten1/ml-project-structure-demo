{
 "cells": [
  {
   "cell_type": "code",
   "execution_count": 19,
   "metadata": {},
   "outputs": [
    {
     "name": "stderr",
     "output_type": "stream",
     "text": [
      "/var/folders/dk/2mw0y5w91dggrsnrpxb04jv80000gn/T/ipykernel_93147/4281405494.py:2: DtypeWarning: Columns (7) have mixed types. Specify dtype option on import or set low_memory=False.\n",
      "  curtest_master = pd.read_csv(\"../data/processed/curtest_master.csv\")\n"
     ]
    }
   ],
   "source": [
    "import pandas as pd\n",
    "curtest_master = pd.read_csv(\"../data/processed/curtest_master.csv\")\n",
    "\n",
    "\n",
    "# Filter rows where mastid starts with 'M'\n",
    "filtered_df = curtest_master[curtest_master['test_id'].str.startswith('R')]\n",
    "\n",
    "# Select only relevant columns\n",
    "selected_df = filtered_df[['mastid', 'ach_level', 'year']]\n",
    "\n",
    "# Pivot: rows = mastid, columns = year, values = ach_level\n",
    "pivoted_df = selected_df.pivot_table(\n",
    "    index='mastid',\n",
    "    columns='year',\n",
    "    values='ach_level',\n",
    "    aggfunc='last'\n",
    ")\n",
    "pivoted_df = pivoted_df.reset_index()\n",
    "pivoted_df.columns.name = None  # Remove the name 'year' from the columns axis\n",
    "\n",
    "\n"
   ]
  },
  {
   "cell_type": "code",
   "execution_count": 20,
   "metadata": {},
   "outputs": [],
   "source": [
    "# Keep only rows with non-null values in all year columns\n",
    "complete_cases_df = pivoted_df.dropna()\n"
   ]
  },
  {
   "cell_type": "code",
   "execution_count": 21,
   "metadata": {},
   "outputs": [
    {
     "name": "stderr",
     "output_type": "stream",
     "text": [
      "/var/folders/dk/2mw0y5w91dggrsnrpxb04jv80000gn/T/ipykernel_93147/3591317321.py:14: FutureWarning: DataFrame.applymap has been deprecated. Use DataFrame.map instead.\n",
      "  releveled_df[ach_columns] = releveled_df[ach_columns].applymap(relevel)\n"
     ]
    }
   ],
   "source": [
    "# Assuming 'mastid' is a column and the rest are year columns\n",
    "ach_columns = [col for col in complete_cases_df.columns if col != 'mastid']\n",
    "\n",
    "def relevel(val):\n",
    "    if val == 5:\n",
    "        return \"high\"\n",
    "    elif val == 4:\n",
    "        return \"good\"\n",
    "    else:\n",
    "        return \"not proficient\"\n",
    "\n",
    "# Apply the releveling only to the year columns\n",
    "releveled_df = complete_cases_df.copy()\n",
    "releveled_df[ach_columns] = releveled_df[ach_columns].map(relevel)\n",
    "\n"
   ]
  },
  {
   "cell_type": "code",
   "execution_count": 23,
   "metadata": {},
   "outputs": [],
   "source": [
    "releveled_df.to_csv(\"../data/interim/curtest_seq.csv\", index=False)"
   ]
  }
 ],
 "metadata": {
  "kernelspec": {
   "display_name": "Python 3",
   "language": "python",
   "name": "python3"
  },
  "language_info": {
   "codemirror_mode": {
    "name": "ipython",
    "version": 3
   },
   "file_extension": ".py",
   "mimetype": "text/x-python",
   "name": "python",
   "nbconvert_exporter": "python",
   "pygments_lexer": "ipython3",
   "version": "3.13.3"
  }
 },
 "nbformat": 4,
 "nbformat_minor": 2
}
