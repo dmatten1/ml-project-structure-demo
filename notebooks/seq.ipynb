{
 "cells": [
  {
   "cell_type": "code",
   "execution_count": 8,
   "metadata": {},
   "outputs": [
    {
     "name": "stderr",
     "output_type": "stream",
     "text": [
      "/var/folders/dk/2mw0y5w91dggrsnrpxb04jv80000gn/T/ipykernel_93147/4281405494.py:2: DtypeWarning: Columns (7) have mixed types. Specify dtype option on import or set low_memory=False.\n",
      "  curtest_master = pd.read_csv(\"../data/processed/curtest_master.csv\")\n"
     ]
    }
   ],
   "source": [
    "import pandas as pd\n",
    "curtest_master = pd.read_csv(\"../data/processed/curtest_master.csv\")\n",
    "\n",
    "\n",
    "# Filter rows where mastid starts with 'M'\n",
    "filtered_df = curtest_master[curtest_master['test_id'].str.startswith('R')]\n",
    "\n",
    "# Select only relevant columns\n",
    "selected_df = filtered_df[['mastid', 'ach_level', 'year']]\n",
    "\n",
    "# Pivot: rows = mastid, columns = year, values = ach_level\n",
    "pivoted_df = selected_df.pivot_table(\n",
    "    index='mastid',\n",
    "    columns='year',\n",
    "    values='ach_level',\n",
    "    aggfunc='last'\n",
    ")\n",
    "pivoted_df = pivoted_df.reset_index()\n",
    "pivoted_df.columns.name = None  # Remove the name 'year' from the columns axis\n",
    "\n",
    "\n"
   ]
  },
  {
   "cell_type": "code",
   "execution_count": 9,
   "metadata": {},
   "outputs": [
    {
     "name": "stdout",
     "output_type": "stream",
     "text": [
      "            mastid  ach_level  year\n",
      "76805    8328383.0          0  2022\n",
      "76806    8328383.0          0  2022\n",
      "840107   9845381.0          0  2022\n",
      "840108   9845381.0          0  2022\n",
      "1274350  9482873.0          0  2022\n",
      "...            ...        ...   ...\n",
      "6004005  8416710.0          4  2018\n",
      "6135972  9046964.0          4  2018\n",
      "6290123  9110114.0          1  2018\n",
      "6547825  9110114.0          1  2018\n",
      "6612768  9046964.0          4  2018\n",
      "\n",
      "[70 rows x 3 columns]\n"
     ]
    }
   ],
   "source": [
    "duplicates = selected_df[selected_df.duplicated(subset=['mastid', 'year'], keep=False)]\n",
    "print(duplicates)\n",
    "\n"
   ]
  },
  {
   "cell_type": "code",
   "execution_count": 10,
   "metadata": {},
   "outputs": [],
   "source": [
    "# Keep only rows with non-null values in all year columns\n",
    "complete_cases_df = pivoted_df.dropna()\n"
   ]
  }
 ],
 "metadata": {
  "kernelspec": {
   "display_name": "Python 3",
   "language": "python",
   "name": "python3"
  },
  "language_info": {
   "codemirror_mode": {
    "name": "ipython",
    "version": 3
   },
   "file_extension": ".py",
   "mimetype": "text/x-python",
   "name": "python",
   "nbconvert_exporter": "python",
   "pygments_lexer": "ipython3",
   "version": "3.13.3"
  }
 },
 "nbformat": 4,
 "nbformat_minor": 2
}
