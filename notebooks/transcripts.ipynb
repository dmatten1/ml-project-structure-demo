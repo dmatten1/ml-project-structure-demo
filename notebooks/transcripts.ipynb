{
 "cells": [
  {
   "cell_type": "code",
   "execution_count": 1,
   "metadata": {},
   "outputs": [],
   "source": [
    "import pandas as pd"
   ]
  },
  {
   "cell_type": "code",
   "execution_count": 4,
   "metadata": {},
   "outputs": [],
   "source": [
    "tr22 = pd.read_csv(\"../data/raw/transcripts2022.csv\")\n",
    "\n",
    "tr22 = tr22[[\"mastid\", \"lea\", \"schlcode\", \"GRADE\",\n",
    "         \"FINAL_MARK\", \"ACADEMIC_LEVEL_DESC\"]]\n"
   ]
  },
  {
   "cell_type": "code",
   "execution_count": 8,
   "metadata": {},
   "outputs": [],
   "source": [
    "tr22 = tr22.map(lambda x: x[2:-1] if isinstance(x, str) and x.startswith('b') else x)\n",
    "tr22.dropna(inplace=True)\n",
    "tr22[\"ACADEMIC_LEVEL_DESC\"] = tr22[\"ACADEMIC_LEVEL_DESC\"].apply(lambda x: x[4:])"
   ]
  }
 ],
 "metadata": {
  "kernelspec": {
   "display_name": "Python 3",
   "language": "python",
   "name": "python3"
  },
  "language_info": {
   "codemirror_mode": {
    "name": "ipython",
    "version": 3
   },
   "file_extension": ".py",
   "mimetype": "text/x-python",
   "name": "python",
   "nbconvert_exporter": "python",
   "pygments_lexer": "ipython3",
   "version": "3.13.3"
  }
 },
 "nbformat": 4,
 "nbformat_minor": 2
}
