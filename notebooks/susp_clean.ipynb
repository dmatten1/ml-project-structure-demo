{
 "cells": [
  {
   "cell_type": "code",
   "execution_count": 13,
   "metadata": {},
   "outputs": [],
   "source": [
    "import pandas as pd\n",
    "from glob import glob\n",
    "import os\n",
    "\n",
    "csv_files = [\n",
    "    f for f in glob(os.path.join(\"../data/raw\", \"*.csv\"))\n",
    "]\n",
    "\n",
    "# Step 2: Group by prefix (gpa vs collegeboard)\n",
    "susp_files = [f for f in csv_files if os.path.basename(f).startswith(\"mastsusp\")]"
   ]
  },
  {
   "cell_type": "code",
   "execution_count": 14,
   "metadata": {},
   "outputs": [
    {
     "name": "stderr",
     "output_type": "stream",
     "text": [
      "/var/folders/dk/2mw0y5w91dggrsnrpxb04jv80000gn/T/ipykernel_3214/120941907.py:1: DtypeWarning: Columns (3,4,51,52) have mixed types. Specify dtype option on import or set low_memory=False.\n",
      "  dfs = [pd.read_csv(f) for f in susp_files]\n",
      "/var/folders/dk/2mw0y5w91dggrsnrpxb04jv80000gn/T/ipykernel_3214/120941907.py:1: DtypeWarning: Columns (5,17,18,23) have mixed types. Specify dtype option on import or set low_memory=False.\n",
      "  dfs = [pd.read_csv(f) for f in susp_files]\n",
      "/var/folders/dk/2mw0y5w91dggrsnrpxb04jv80000gn/T/ipykernel_3214/120941907.py:1: DtypeWarning: Columns (5,13,14,17,20,21,22,52) have mixed types. Specify dtype option on import or set low_memory=False.\n",
      "  dfs = [pd.read_csv(f) for f in susp_files]\n",
      "/var/folders/dk/2mw0y5w91dggrsnrpxb04jv80000gn/T/ipykernel_3214/120941907.py:1: DtypeWarning: Columns (5,17,18,23,53) have mixed types. Specify dtype option on import or set low_memory=False.\n",
      "  dfs = [pd.read_csv(f) for f in susp_files]\n",
      "/var/folders/dk/2mw0y5w91dggrsnrpxb04jv80000gn/T/ipykernel_3214/120941907.py:1: DtypeWarning: Columns (6,7,15,16,17,22) have mixed types. Specify dtype option on import or set low_memory=False.\n",
      "  dfs = [pd.read_csv(f) for f in susp_files]\n"
     ]
    }
   ],
   "source": [
    "dfs = [pd.read_csv(f) for f in susp_files]\n",
    "\n",
    "# Concatenate into one DataFrame\n",
    "susp_master = pd.concat(dfs, ignore_index=True)\n",
    "\n",
    "# Decode any string that looks like a byte string (e.g., \"b'some value'\")\n",
    "susp_master = susp_master.map(lambda x: x[2:-1] if isinstance(x, str) and x.startswith(\"b'\") and x.endswith(\"'\") else x)\n"
   ]
  },
  {
   "cell_type": "code",
   "execution_count": 15,
   "metadata": {},
   "outputs": [],
   "source": [
    "# Drop the original columns\n",
    "susp_master.drop(columns=['enALP','LTS_RemYear','LTS365','victype1','weapon1','weapon2','acttotal','except','victoff','victacc','CANNABIS','PDanger','viototal','birthdate','K'], inplace=True)\n",
    "# Drop columns that start with 'HAR'\n",
    "susp_master = susp_master.loc[:, ~susp_master.columns.str.startswith('HAR')]\n",
    "\n",
    "# Fill missing values in 'lea' with values from 'LEA'\n",
    "susp_master['lea'] = susp_master['lea'].fillna(susp_master['LEA'])\n",
    "\n",
    "# Normalize 'lea' to lowercase\n",
    "susp_master['lea'] = susp_master['lea'].str.lower()\n",
    "\n",
    "# Drop the 'LEA' column\n",
    "susp_master = susp_master.drop(columns=['LEA'])\n"
   ]
  },
  {
   "cell_type": "code",
   "execution_count": 17,
   "metadata": {},
   "outputs": [],
   "source": [
    "susp_master = susp_master.dropna(subset=['age','grade','lea','mastid', 'offtype', 'ethnic', 'gender'])\n",
    "susp_master = susp_master.drop(columns=['weapon3'])"
   ]
  },
  {
   "cell_type": "code",
   "execution_count": 18,
   "metadata": {},
   "outputs": [
    {
     "data": {
      "text/plain": [
       "array(['75', '.', '33', '64', '32', '42', '28', '40', '35', '27', '74',\n",
       "       '6', '96', '66', '2', '114', '70', '63', '52', '37', '8', '24',\n",
       "       '58', '61', '78', '19', '69', '107', '38', '67', '36', '25', '51',\n",
       "       '41', '60', '46', '49', '91', '44', '59', '30', '22', '88', '87',\n",
       "       '20', '31', '17', '3', '48', '92', '79', '1', '29', '101', '71',\n",
       "       '39', '106', '9', '72', '55', '94', '95', '21', '45', '109', '23',\n",
       "       '68', '73', '34', '90', '18', '57', '47', '115', '26', '102', '86',\n",
       "       '5', '105', '43', '65', '93', '14', '50', '80', '13', '7', '110',\n",
       "       '56', '10', '113', '112', '111', '77', '4', '104', '53', '54',\n",
       "       '12', '16', '98', '051', nan, '091', '033', '037', '027', '019',\n",
       "       '036', '061', '042', '078', '116', '075', '074', '067', '052',\n",
       "       '070', '064', '058', '069', '041', '066', '039', '117', '024',\n",
       "       '032', '040', '031', '060', '020', '096', '059', '021', '025',\n",
       "       '063', '038', '044', '072', '008', '006', '028', '065', '003',\n",
       "       '086', '022', '035', '079', '048', '045', '030', '029', '080',\n",
       "       '068', '017', '016', '094', '071', '092', '009', '073', '118',\n",
       "       '049', '002', '001', '053', '043', '050', '095', '088', '057',\n",
       "       '055', '090', '119', '034', '026', '093', '013', '046', '023',\n",
       "       '087', '012', '014', '007', '018', '005', '047', '054', '010',\n",
       "       '077', '056', '098', '120', '004'], dtype=object)"
      ]
     },
     "execution_count": 18,
     "metadata": {},
     "output_type": "execute_result"
    }
   ],
   "source": [
    "pd.unique(\n",
    "    susp_master[['act1', 'act2', 'act3']].values.ravel()\n",
    ")\n"
   ]
  },
  {
   "cell_type": "code",
   "execution_count": 21,
   "metadata": {},
   "outputs": [
    {
     "name": "stdout",
     "output_type": "stream",
     "text": [
      "Sorted acts where AR == 1:\n",
      "['.', '001', '002', '003', '009', '018', '024', '027', '032', '039', '044', '092', '1', '112', '2', '22', '24', '27', '3', '32', '33', '42', '44', '58', '59', '61', '67', '75', '79', '8', '92']\n",
      "Sorted acts where AW == 1:\n",
      "['.', '001', '002', '003', '008', '009', '019', '024', '027', '033', '037', '040', '041', '044', '045', '058', '059', '066', '079', '090', '094', '1', '104', '106', '19', '2', '22', '24', '27', '3', '32', '33', '42', '44', '45', '58', '67', '79', '8', '9']\n",
      "Sorted acts where AP == 1:\n",
      "['.', '001', '002', '003', '006', '008', '009', '014', '018', '019', '021', '022', '024', '025', '027', '028', '029', '030', '031', '032', '033', '035', '036', '037', '038', '039', '040', '041', '042', '044', '045', '049', '051', '052', '055', '058', '059', '060', '061', '066', '067', '069', '070', '071', '072', '074', '075', '079', '086', '090', '092', '096', '1', '101', '105', '106', '107', '112', '114', '115', '116', '14', '17', '19', '2', '21', '22', '23', '24', '25', '27', '28', '3', '30', '31', '32', '33', '35', '36', '37', '39', '40', '41', '42', '44', '45', '50', '51', '52', '55', '58', '59', '6', '60', '61', '66', '67', '69', '7', '70', '72', '74', '75', '79', '8', '87', '9', '90', '91', '92', '93', '96']\n",
      "Sorted acts where BT == 1:\n",
      "['.', '019', '033', '039', '042', '043', '058', '19', '22', '27', '42', '43', '75', '92']\n",
      "Sorted acts where BS == 1:\n",
      "['.', '018', '053', '058', '19', '29', '40', '42', '53', '61', '92']\n",
      "Sorted acts where D == 1:\n",
      "['.', '4']\n",
      "Sorted acts where PA == 1:\n",
      "['.', '006', '008', '009', '017', '018', '019', '020', '022', '024', '028', '030', '032', '033', '035', '036', '037', '040', '041', '042', '048', '049', '050', '051', '055', '058', '059', '061', '067', '069', '070', '074', '075', '087', '088', '092', '095', '096', '114', '116', '117', '14', '17', '18', '19', '20', '24', '27', '33', '35', '36', '37', '40', '41', '42', '44', '46', '48', '49', '51', '55', '58', '59', '6', '61', '67', '69', '70', '74', '75', '79', '8', '86', '87', '9', '92', '95', '96']\n",
      "Sorted acts where PS == 1:\n",
      "['.', '003', '005', '006', '007', '008', '009', '017', '018', '019', '020', '021', '022', '024', '027', '028', '029', '030', '031', '032', '033', '035', '036', '037', '039', '040', '041', '042', '044', '046', '047', '048', '049', '050', '051', '054', '055', '056', '057', '058', '059', '061', '064', '066', '067', '068', '069', '070', '072', '074', '075', '079', '086', '087', '088', '092', '093', '095', '096', '105', '106', '107', '114', '115', '116', '117', '118', '119', '17', '18', '19', '20', '22', '24', '27', '28', '3', '30', '31', '32', '33', '35', '36', '37', '38', '39', '40', '41', '42', '44', '46', '47', '48', '49', '5', '50', '51', '52', '54', '55', '56', '57', '58', '59', '6', '60', '61', '64', '66', '67', '69', '7', '70', '74', '75', '78', '79', '8', '86', '87', '88', '9', '90', '91', '92', '93', '95', '96']\n",
      "Sorted acts where PF == 1:\n",
      "['.', '001', '002', '003', '006', '008', '009', '010', '017', '018', '019', '020', '022', '024', '027', '030', '033', '039', '040', '041', '042', '044', '049', '051', '055', '058', '059', '067', '069', '074', '078', '079', '093', '094', '096', '105', '107', '111', '116', '117', '118', '17', '19', '2', '20', '27', '3', '30', '39', '40', '42', '49', '5', '51', '55', '58', '6', '69', '74', '75', '79', '8', '9', '92']\n",
      "Sorted acts where PW == 1:\n",
      "['.', '002', '003', '006', '007', '008', '009', '010', '017', '018', '019', '020', '021', '022', '024', '025', '027', '028', '029', '030', '032', '033', '035', '036', '037', '039', '040', '041', '042', '044', '045', '046', '048', '049', '051', '052', '055', '057', '058', '059', '061', '064', '066', '067', '068', '069', '070', '072', '074', '075', '079', '086', '087', '088', '090', '092', '093', '094', '095', '096', '1', '105', '106', '107', '114', '116', '117', '118', '119', '17', '18', '19', '2', '20', '21', '22', '24', '25', '27', '28', '3', '30', '31', '32', '33', '35', '36', '37', '38', '39', '40', '41', '42', '44', '45', '48', '49', '5', '51', '52', '55', '58', '59', '6', '60', '61', '64', '66', '67', '69', '70', '72', '74', '75', '78', '79', '8', '86', '87', '88', '9', '90', '92', '94', '95', '96']\n",
      "Sorted acts where R == 1:\n",
      "['.', '012', '044', '058', '12', '13', '16']\n",
      "Sorted acts where RW == 1:\n",
      "['.', '008', '009', '010', '019', '023', '027', '039', '042', '044', '058', '10']\n",
      "Sorted acts where SA == 1:\n",
      "['.', '003', '014', '019', '022', '024', '027', '032', '033', '038', '042', '044', '052', '058', '061', '106', '107', '13', '14', '16', '19', '20', '22', '24', '25', '27', '3', '32', '33', '34', '37', '38', '39', '40', '42', '44', '52', '58', '59', '63', '67', '74', '79', '92', '95']\n",
      "Sorted acts where SO == 1:\n",
      "['.', '013', '022', '025', '032', '038', '044', '052', '107', '114', '115', '12', '13', '14', '16', '25', '26', '32', '33', '37', '42', '44', '60', '69', '92']\n"
     ]
    }
   ],
   "source": [
    "binary_cols = ['AR','AW','AP','BT','BS','D','PA','PS','PF','PW','R','RW','SA','SO']  # add yours\n",
    "\n",
    "for col in binary_cols:\n",
    "    acts = susp_master[susp_master[col] == 1][['act1', 'act2', 'act3','act4','act5']]\n",
    "    unique_vals = pd.unique(acts.values.ravel())\n",
    "    \n",
    "    sorted_acts = sorted([x for x in unique_vals if pd.notna(x)])\n",
    "\n",
    "    print(f\"Sorted acts where {col} == 1:\")\n",
    "    print(sorted_acts)\n"
   ]
  },
  {
   "cell_type": "code",
   "execution_count": 26,
   "metadata": {},
   "outputs": [],
   "source": [
    "import numpy as np\n",
    "\n",
    "act_cols = ['act1', 'act2', 'act3', 'act4', 'act5']\n",
    "\n",
    "# Replace '.' with NaN and strip leading zeros\n",
    "for col in act_cols:\n",
    "    susp_master[col] = susp_master[col].replace('.', np.nan)\n",
    "    susp_master[col] = susp_master[col].astype(str).str.lstrip('0')\n",
    "    susp_master[col] = susp_master[col].replace('nan', np.nan)\n"
   ]
  },
  {
   "cell_type": "code",
   "execution_count": 27,
   "metadata": {},
   "outputs": [
    {
     "data": {
      "image/png": "[encoded data removed]",
      "text/plain": [
       "<Figure size 1200x600 with 1 Axes>"
      ]
     },
     "metadata": {},
     "output_type": "display_data"
    }
   ],
   "source": [
    "import pandas as pd\n",
    "import matplotlib.pyplot as plt\n",
    "\n",
    "\n",
    "# Step 2: Combine into one Series\n",
    "all_acts = pd.concat([susp_master[col] for col in act_cols])\n",
    "\n",
    "all_acts = all_acts[all_acts != \".\"]\n",
    "\n",
    "# Step 3: Drop NaNs and count\n",
    "act_counts = all_acts.dropna().value_counts()\n",
    "\n",
    "# Step 4: Filter for codes with 1000+ occurrences\n",
    "filtered_counts = act_counts[act_counts >= 1000].sort_values(ascending=False)\n",
    "\n",
    "# Step 5: Plot\n",
    "plt.figure(figsize=(12, 6))\n",
    "filtered_counts.plot(kind='bar')\n",
    "plt.title('Act Codes with 1000+ Occurrences Across act1–act5')\n",
    "plt.xlabel('Act Code')\n",
    "plt.ylabel('Count')\n",
    "plt.xticks()\n",
    "plt.tight_layout()\n",
    "plt.show()\n"
   ]
  }
 ],
 "metadata": {
  "kernelspec": {
   "display_name": "Python 3",
   "language": "python",
   "name": "python3"
  },
  "language_info": {
   "codemirror_mode": {
    "name": "ipython",
    "version": 3
   },
   "file_extension": ".py",
   "mimetype": "text/x-python",
   "name": "python",
   "nbconvert_exporter": "python",
   "pygments_lexer": "ipython3",
   "version": "3.13.3"
  }
 },
 "nbformat": 4,
 "nbformat_minor": 2
}
