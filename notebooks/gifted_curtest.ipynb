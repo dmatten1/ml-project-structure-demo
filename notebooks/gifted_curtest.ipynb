{
 "cells": [
  {
   "cell_type": "code",
   "execution_count": 13,
   "metadata": {},
   "outputs": [],
   "source": [
    "import seaborn as sns\n",
    "import pandas as pd\n",
    "import matplotlib.pyplot as plt"
   ]
  },
  {
   "cell_type": "code",
   "execution_count": 14,
   "metadata": {},
   "outputs": [
    {
     "name": "stderr",
     "output_type": "stream",
     "text": [
      "/var/folders/dk/2mw0y5w91dggrsnrpxb04jv80000gn/T/ipykernel_26521/122745068.py:1: DtypeWarning: Columns (10) have mixed types. Specify dtype option on import or set low_memory=False.\n",
      "  gifted = pd.read_csv(\"../data/processed/masterbuild_master.csv\")\n",
      "/var/folders/dk/2mw0y5w91dggrsnrpxb04jv80000gn/T/ipykernel_26521/122745068.py:2: DtypeWarning: Columns (7) have mixed types. Specify dtype option on import or set low_memory=False.\n",
      "  curtest = pd.read_csv(\"../data/processed/curtest_master.csv\")\n"
     ]
    }
   ],
   "source": [
    "gifted = pd.read_csv(\"../data/processed/masterbuild_master.csv\")\n",
    "curtest = pd.read_csv(\"../data/processed/curtest_master.csv\")"
   ]
  },
  {
   "cell_type": "code",
   "execution_count": 16,
   "metadata": {},
   "outputs": [
    {
     "name": "stdout",
     "output_type": "stream",
     "text": [
      "           mastid  lea  schlcode  grade ethnic sex aig aig_code eds  \\\n",
      "233     7806276.0  180       376      9      H   F   Y       AM   Y   \n",
      "320     7481646.0  610       334     11      W   M   Y       AG   N   \n",
      "321     7481646.0  060       700     11      W   M   Y       AG   N   \n",
      "3578    7463009.0  340       454      9      W   M   Y       AG   N   \n",
      "3999    7465765.0  340       382      9      W   M   Y       AG   N   \n",
      "...           ...  ...       ...    ...    ...  ..  ..      ...  ..   \n",
      "682895  9023948.0  620       339      7      W   M   Y       IG   N   \n",
      "682898  9644831.0  470       442      6      W   F   Y       AG   N   \n",
      "682905  9427541.0  350       312      6      W   F   Y       AR   Y   \n",
      "682909  9460601.0  180       320     10      W   M   Y       AG   N   \n",
      "682910  9250577.0  410       325      6      W   F   Y       AG   N   \n",
      "\n",
      "        reporting_year  mpw  \n",
      "233             2018.0  NaN  \n",
      "320             2018.0  NaN  \n",
      "321             2018.0  NaN  \n",
      "3578            2018.0  NaN  \n",
      "3999            2018.0  NaN  \n",
      "...                ...  ...  \n",
      "682895          2021.0  NaN  \n",
      "682898          2021.0  NaN  \n",
      "682905          2021.0  NaN  \n",
      "682909          2021.0    S  \n",
      "682910          2021.0  NaN  \n",
      "\n",
      "[465720 rows x 11 columns]\n"
     ]
    }
   ],
   "source": [
    "# Step 1: Find mastids that appear more than twice\n",
    "mastid_counts = gifted['mastid'].value_counts()\n",
    "mastids_more_than_twice = mastid_counts[mastid_counts > 2].index\n",
    "\n",
    "# Step 2: Filter the DataFrame to include only those mastids\n",
    "gifted_filtered = gifted[gifted['mastid'].isin(mastids_more_than_twice)]\n",
    "\n",
    "# Step 3: View the result\n",
    "print(gifted_filtered)\n"
   ]
  },
  {
   "cell_type": "code",
   "execution_count": 17,
   "metadata": {},
   "outputs": [
    {
     "data": {
      "image/png": "[encoded data removed]",
      "text/plain": [
       "<Figure size 640x480 with 1 Axes>"
      ]
     },
     "metadata": {},
     "output_type": "display_data"
    }
   ],
   "source": [
    "counts = gifted.groupby(['aig_code', 'eds']).size().reset_index(name='count')\n",
    "\n",
    "# Calculate total per aig_code\n",
    "counts['total'] = counts.groupby('aig_code')['count'].transform('sum')\n",
    "\n",
    "# Compute proportions\n",
    "counts['proportion'] = counts['count'] / counts['total']\n",
    "sns.barplot(data=counts, x='aig_code', y='proportion', hue='eds')\n",
    "plt.ylabel('Proportion')\n",
    "plt.title('EDS by AIG Code')\n",
    "plt.xticks(rotation=90)  # Optional: rotates x labels if they’re long\n",
    "plt.tight_layout()\n",
    "plt.show()\n"
   ]
  }
 ],
 "metadata": {
  "kernelspec": {
   "display_name": "Python 3",
   "language": "python",
   "name": "python3"
  },
  "language_info": {
   "codemirror_mode": {
    "name": "ipython",
    "version": 3
   },
   "file_extension": ".py",
   "mimetype": "text/x-python",
   "name": "python",
   "nbconvert_exporter": "python",
   "pygments_lexer": "ipython3",
   "version": "3.13.3"
  }
 },
 "nbformat": 4,
 "nbformat_minor": 2
}
